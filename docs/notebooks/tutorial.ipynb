{
 "cells": [
  {
   "cell_type": "markdown",
   "id": "947f441f13ced60a",
   "metadata": {},
   "source": [
    "### Import dependencies"
   ]
  },
  {
   "cell_type": "code",
   "execution_count": null,
   "id": "7b173024d3e8f76",
   "metadata": {
    "ExecuteTime": {
     "end_time": "2025-02-24T16:59:37.448259Z",
     "start_time": "2025-02-24T16:59:36.960817Z"
    }
   },
   "outputs": [],
   "source": [
    "import polars_bio as pb\n",
    "import pandas as pd\n",
    "from polars_bio.range_viz import visualize_intervals"
   ]
  },
  {
   "cell_type": "markdown",
   "id": "d2bb8c193890f27f",
   "metadata": {},
   "source": [
    "### Sample data"
   ]
  },
  {
   "cell_type": "code",
   "execution_count": null,
   "id": "86fe039c3780140e",
   "metadata": {
    "ExecuteTime": {
     "end_time": "2025-02-24T16:59:37.455237Z",
     "start_time": "2025-02-24T16:59:37.452650Z"
    }
   },
   "outputs": [],
   "source": [
    "df1 = pd.DataFrame(\n",
    "    [[\"chr1\", 1, 5], [\"chr1\", 3, 8], [\"chr1\", 8, 10], [\"chr1\", 12, 14]],\n",
    "    columns=[\"chrom\", \"start\", \"end\"],\n",
    ")\n",
    "\n",
    "df2 = pd.DataFrame(\n",
    "    [[\"chr1\", 4, 8], [\"chr1\", 10, 11]], columns=[\"chrom\", \"start\", \"end\"]\n",
    ")"
   ]
  },
  {
   "cell_type": "markdown",
   "id": "a884cd2960796fdb",
   "metadata": {},
   "source": [
    "### Overlap"
   ]
  },
  {
   "cell_type": "code",
   "execution_count": null,
   "id": "304f3aa6fcdc9650",
   "metadata": {
    "ExecuteTime": {
     "end_time": "2025-02-24T16:59:37.545853Z",
     "start_time": "2025-02-24T16:59:37.538707Z"
    }
   },
   "outputs": [],
   "source": [
    "overlapping_intervals = pb.overlap(df1, df2, output_type=\"pandas.DataFrame\")"
   ]
  },
  {
   "cell_type": "code",
   "execution_count": null,
   "id": "61c9254622598622",
   "metadata": {
    "ExecuteTime": {
     "end_time": "2025-02-24T16:59:37.556977Z",
     "start_time": "2025-02-24T16:59:37.552440Z"
    }
   },
   "outputs": [],
   "source": [
    "display(overlapping_intervals)"
   ]
  },
  {
   "cell_type": "code",
   "execution_count": null,
   "id": "e640901ec6e6ce11",
   "metadata": {
    "ExecuteTime": {
     "end_time": "2025-02-24T16:59:37.649614Z",
     "start_time": "2025-02-24T16:59:37.581481Z"
    }
   },
   "outputs": [],
   "source": [
    "visualize_intervals(overlapping_intervals)"
   ]
  },
  {
   "cell_type": "markdown",
   "id": "8e2509b9cb5237d8",
   "metadata": {},
   "source": [
    "### Nearest"
   ]
  },
  {
   "cell_type": "code",
   "execution_count": null,
   "id": "bc0f8689c31221b3",
   "metadata": {
    "ExecuteTime": {
     "end_time": "2025-02-24T16:59:37.658412Z",
     "start_time": "2025-02-24T16:59:37.652480Z"
    }
   },
   "outputs": [],
   "source": [
    "nearest_intervals = pb.nearest(df1, df2, output_type=\"pandas.DataFrame\")"
   ]
  },
  {
   "cell_type": "code",
   "execution_count": null,
   "id": "aad83ab53e1294fc",
   "metadata": {
    "ExecuteTime": {
     "end_time": "2025-02-24T16:59:37.668268Z",
     "start_time": "2025-02-24T16:59:37.665033Z"
    }
   },
   "outputs": [],
   "source": [
    "display(nearest_intervals)"
   ]
  },
  {
   "cell_type": "code",
   "execution_count": null,
   "id": "5f69f700b50f58e2",
   "metadata": {
    "ExecuteTime": {
     "end_time": "2025-02-24T16:59:37.780899Z",
     "start_time": "2025-02-24T16:59:37.673937Z"
    }
   },
   "outputs": [],
   "source": [
    "visualize_intervals(nearest_intervals, \"nearest pair\")"
   ]
  },
  {
   "cell_type": "markdown",
   "id": "374b4efc",
   "metadata": {},
   "source": [
    "QC operation test"
   ]
  },
  {
   "cell_type": "code",
   "execution_count": 5,
   "id": "a8a1325a",
   "metadata": {},
   "outputs": [
    {
     "name": "stdout",
     "output_type": "stream",
     "text": [
      "/home/user/Documents/studia2st/tbd/polars-bio\n",
      "/home/user/Documents/studia2st/tbd/polars-bio\n",
      "/home/user/Documents/studia2st/tbd/polars-bio/docs/notebooks\n",
      "/usr/lib/python310.zip\n",
      "/usr/lib/python3.10\n",
      "/usr/lib/python3.10/lib-dynload\n",
      "\n",
      "/home/user/.local/lib/python3.10/site-packages\n",
      "/usr/local/lib/python3.10/dist-packages\n",
      "/usr/lib/python3/dist-packages\n",
      "/home/user/Documents/studia2st/tbd/polars-bio/polars_bio/__init__.py\n"
     ]
    }
   ],
   "source": [
    "import sys\n",
    "import polars as pl\n",
    "sys.path.insert(0, \"/home/user/Documents/studia2st/tbd/polars-bio\")\n",
    "print('\\n'.join(sys.path))\n",
    "\n",
    "import polars_bio\n",
    "print(polars_bio.__file__)"
   ]
  },
  {
   "cell_type": "code",
   "execution_count": null,
   "id": "344404a0",
   "metadata": {},
   "outputs": [
    {
     "name": "stderr",
     "output_type": "stream",
     "text": [
      "INFO:polars_bio.scan:Registering FASTQ table example with options: FastqReadOptions { thread_num: Some(1), object_storage_options: Some(ObjectStorageOptions { chunk_size: Some(8), concurrent_fetches: Some(1), allow_anonymous: true, enable_request_payer: false, max_retries: Some(5), timeout: Some(300), compression_type: Some(AUTO) }) }\n",
      "INFO:polars_bio:Table: example registered for path: /home/user/Documents/studia2st/tbd/polars-bio/tests/data/io/fastq/example.fastq\n"
     ]
    },
    {
     "data": {
      "application/vnd.jupyter.widget-view+json": {
       "model_id": "fa24b07d767b42e08bccf571658a965c",
       "version_major": 2,
       "version_minor": 0
      },
      "text/plain": [
       "0rows [00:00, ?rows/s]"
      ]
     },
     "metadata": {},
     "output_type": "display_data"
    },
    {
     "name": "stderr",
     "output_type": "stream",
     "text": [
      "INFO:polars_bio.operation:Running MeanQuality operation with 1 thread(s)...\n"
     ]
    },
    {
     "name": "stdout",
     "output_type": "stream",
     "text": [
      "quality_scores column type: LargeUtf8\n",
      "Query : \n",
      "            SELECT\n",
      "                FLOOR(mean_c / 1) * 1 AS bin_start, -- column_name    bin_size    bin_size\n",
      "                COUNT(*) AS count\n",
      "            FROM\n",
      "                fastq_table -- table_name\n",
      "            GROUP BY\n",
      "                FLOOR(mean_c / 1) * 1 -- column_name    bin_size   bin_size\n",
      "            ORDER BY\n",
      "                bin_start;\n",
      "        \n"
     ]
    }
   ],
   "source": [
    "\n",
    "df = polars_bio.read_fastq(f\"/home/user/Documents/studia2st/tbd/polars-bio/tests/data/io/fastq/example.fastq\").collect()\n",
    "# df = '/home/user/Documents/studia2st/tbd/polars-bio/tests/data/io/fastq/example.fastq'\n",
    "df\n",
    "\n",
    "histogram_mean_quality = polars_bio.qc_operations.sequence_quality_score(df, output_type=\"polars.DataFrame\")\n",
    "\n",
    "histogram_mean_quality.write_csv(\"histogram_mean_quality.csv\")"
   ]
  }
 ],
 "metadata": {
  "kernelspec": {
   "display_name": "Python 3",
   "language": "python",
   "name": "python3"
  },
  "language_info": {
   "codemirror_mode": {
    "name": "ipython",
    "version": 3
   },
   "file_extension": ".py",
   "mimetype": "text/x-python",
   "name": "python",
   "nbconvert_exporter": "python",
   "pygments_lexer": "ipython3",
   "version": "3.10.12"
  }
 },
 "nbformat": 4,
 "nbformat_minor": 5
}
